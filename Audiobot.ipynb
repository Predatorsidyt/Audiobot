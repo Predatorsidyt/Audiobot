{
  "nbformat": 4,
  "nbformat_minor": 0,
  "metadata": {
    "colab": {
      "provenance": []
    },
    "kernelspec": {
      "name": "python3",
      "display_name": "Python 3"
    },
    "language_info": {
      "name": "python"
    }
  },
  "cells": [
    {
      "cell_type": "code",
      "source": [
        "pip install SpeechRecognition pydub pandas"
      ],
      "metadata": {
        "colab": {
          "base_uri": "https://localhost:8080/"
        },
        "id": "MWpbVYGuNffR",
        "outputId": "6824c385-0af5-46c8-b1ff-39d6304d2503"
      },
      "execution_count": 13,
      "outputs": [
        {
          "output_type": "stream",
          "name": "stdout",
          "text": [
            "Requirement already satisfied: SpeechRecognition in /usr/local/lib/python3.10/dist-packages (3.10.1)\n",
            "Collecting pydub\n",
            "  Downloading pydub-0.25.1-py2.py3-none-any.whl (32 kB)\n",
            "Requirement already satisfied: pandas in /usr/local/lib/python3.10/dist-packages (1.5.3)\n",
            "Requirement already satisfied: requests>=2.26.0 in /usr/local/lib/python3.10/dist-packages (from SpeechRecognition) (2.31.0)\n",
            "Requirement already satisfied: typing-extensions in /usr/local/lib/python3.10/dist-packages (from SpeechRecognition) (4.5.0)\n",
            "Requirement already satisfied: python-dateutil>=2.8.1 in /usr/local/lib/python3.10/dist-packages (from pandas) (2.8.2)\n",
            "Requirement already satisfied: pytz>=2020.1 in /usr/local/lib/python3.10/dist-packages (from pandas) (2023.3.post1)\n",
            "Requirement already satisfied: numpy>=1.21.0 in /usr/local/lib/python3.10/dist-packages (from pandas) (1.23.5)\n",
            "Requirement already satisfied: six>=1.5 in /usr/local/lib/python3.10/dist-packages (from python-dateutil>=2.8.1->pandas) (1.16.0)\n",
            "Requirement already satisfied: charset-normalizer<4,>=2 in /usr/local/lib/python3.10/dist-packages (from requests>=2.26.0->SpeechRecognition) (3.3.2)\n",
            "Requirement already satisfied: idna<4,>=2.5 in /usr/local/lib/python3.10/dist-packages (from requests>=2.26.0->SpeechRecognition) (3.6)\n",
            "Requirement already satisfied: urllib3<3,>=1.21.1 in /usr/local/lib/python3.10/dist-packages (from requests>=2.26.0->SpeechRecognition) (2.0.7)\n",
            "Requirement already satisfied: certifi>=2017.4.17 in /usr/local/lib/python3.10/dist-packages (from requests>=2.26.0->SpeechRecognition) (2023.11.17)\n",
            "Installing collected packages: pydub\n",
            "Successfully installed pydub-0.25.1\n"
          ]
        }
      ]
    },
    {
      "cell_type": "code",
      "source": [
        "import speech_recognition as sr\n",
        "import re\n",
        "import os\n",
        "import pandas as pd\n",
        "\n",
        "def extract_text_from_audio(audio_path):\n",
        "    try:\n",
        "        r = sr.Recognizer()\n",
        "        with sr.AudioFile(audio_path) as source:\n",
        "            audio_data = r.record(source)\n",
        "            transcribed_text = r.recognize_google(audio_data, language='hi-IN')\n",
        "\n",
        "        return transcribed_text\n",
        "    except Exception as e:\n",
        "        print(f\"Error in extracting text: {e}\")\n",
        "        return None\n",
        "\n",
        "def clean_text(text):\n",
        "    text = text.lower()\n",
        "    text = re.sub(r'\\W+', ' ', text)\n",
        "    return text\n",
        "\n",
        "def load_data(folder_path):\n",
        "    data = []\n",
        "    for filename in os.listdir(folder_path):\n",
        "        if filename.endswith('.wav'):\n",
        "            file_path = os.path.join(folder_path, filename)\n",
        "            transcribed_text = extract_text_from_audio(file_path)\n",
        "            cleaned_text = clean_text(transcribed_text)\n",
        "            data.append({'file_name': filename, 'transcribed_text': cleaned_text})\n",
        "\n",
        "    return pd.DataFrame(data)\n",
        "\n",
        "def save_data(df, file_path):\n",
        "    df.to_csv(file_path, index=False)\n",
        "\n",
        "folder_path = \"https://repository.voxforge1.org/downloads/SpeechCorpus/Trunk/Audio/Original/44.1kHz_16bit/\"\n",
        "output_file_path = \"cleaned_audio_data.csv\"\n",
        "\n",
        "df = load_data(folder_path)\n",
        "save_data(df, output_file_path)\n",
        "\n",
        "print(f\"Cleaned data saved to {output_file_path}\")"
      ],
      "metadata": {
        "id": "z4mu0lJ6PW67"
      },
      "execution_count": null,
      "outputs": []
    }
  ]
}